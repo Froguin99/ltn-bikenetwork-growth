{
 "cells": [
  {
   "cell_type": "markdown",
   "metadata": {},
   "source": [
    "# Step 2 - Prepare network data\n",
    "## Project: Growing Urban Bicycle Networks"
   ]
  },
  {
   "cell_type": "markdown",
   "metadata": {},
   "source": [
    "This notebook downloads cycle, LTN, and street network data sets and prepares them for analysis.\n",
    "\n",
    "Contact: Chris Larkin (c.larkin@ncl.ac.uk) or Michael Szell (michael.szell@gmail.com)\n",
    " \n",
    "Created: 2024-11-16  \n",
    "Last modified: 2024-11-17"
   ]
  },
  {
   "cell_type": "markdown",
   "metadata": {},
   "source": [
    "## Preliminaries"
   ]
  },
  {
   "cell_type": "markdown",
   "metadata": {},
   "source": [
    "### Parameters"
   ]
  },
  {
   "cell_type": "code",
   "execution_count": null,
   "metadata": {},
   "outputs": [],
   "source": [
    "debug = False # If True, will produce plots and/or verbose output to double-check\n",
    "%run -i \"../parameters/parameters.py\""
   ]
  },
  {
   "cell_type": "markdown",
   "metadata": {},
   "source": [
    "### Setup"
   ]
  },
  {
   "cell_type": "code",
   "execution_count": null,
   "metadata": {},
   "outputs": [],
   "source": [
    "%run -i path.py\n",
    "%run -i setup.py\n",
    "\n",
    "%load_ext watermark\n",
    "#%watermark -n -v -m -g -iv"
   ]
  },
  {
   "cell_type": "markdown",
   "metadata": {},
   "source": [
    "### Functions"
   ]
  },
  {
   "cell_type": "code",
   "execution_count": null,
   "metadata": {},
   "outputs": [],
   "source": [
    "%run -i functions.py"
   ]
  },
  {
   "cell_type": "markdown",
   "metadata": {},
   "source": [
    "## Download and wrangle data"
   ]
  },
  {
   "cell_type": "markdown",
   "metadata": {},
   "source": [
    "### Networks"
   ]
  },
  {
   "cell_type": "code",
   "execution_count": null,
   "metadata": {
    "scrolled": true
   },
   "outputs": [],
   "source": [
    "for scenario in [\"no_ltn_scenario\",\n",
    "\"current_ltn_scenario\",\"more_ltn_scenario\"]:\n",
    "    for placeid, placeinfo in tqdm(cities.items(), desc=f\"Cities ({scenario})\"):\n",
    "        base_path = os.path.join(PATH[\"data\"], placeid, scenario)\n",
    "\n",
    "        if placeinfo[\"nominatimstring\"] != '':\n",
    "            location = ox.geocoder.geocode_to_gdf(placeinfo[\"nominatimstring\"])\n",
    "            if location.geometry[0].geom_type == 'MultiPolygon':\n",
    "                location = location.explode(index_parts=False).reset_index(drop=True)\n",
    "            location = fill_holes(extract_relevant_polygon(placeid, shapely.geometry.shape(location['geometry'][0])))\n",
    "            if debug:\n",
    "                try:\n",
    "                    color = cm.rainbow(np.linspace(0, 1, len(location)))\n",
    "                    for poly, c in zip(location, color):\n",
    "                        plt.plot(*poly.exterior.xy, c=c)\n",
    "                        for intr in poly.interiors:\n",
    "                            plt.plot(*intr.xy, c=\"red\")\n",
    "                except:\n",
    "                    plt.plot(*location.exterior.xy)\n",
    "                plt.show()\n",
    "        else:\n",
    "            shp = fiona.open(PATH[\"data\"] + placeid + \"/\" + placeid + \".shp\")\n",
    "            first = next(iter(shp))\n",
    "            try:\n",
    "                location = Polygon(shapely.geometry.shape(first['geometry']))\n",
    "            except:\n",
    "                location = shapely.geometry.shape(first['geometry'])\n",
    "\n",
    "        Gs = {}\n",
    "        for parameterid, parameterinfo in tqdm(osmnxparameters.items(), desc=\"Networks\", leave=False):\n",
    "            for i in range(10):\n",
    "                try:\n",
    "                    Gs[parameterid] = ox.graph_from_polygon(\n",
    "                        location,\n",
    "                        network_type=parameterinfo['network_type'],\n",
    "                        custom_filter=parameterinfo['custom_filter'],\n",
    "                        retain_all=parameterinfo['retain_all'],\n",
    "                        simplify=False\n",
    "                    )\n",
    "                    break\n",
    "                except ValueError:\n",
    "                    Gs[parameterid] = nx.empty_graph(create_using=nx.MultiDiGraph)\n",
    "                    print(placeid + \": No OSM data for graph \" + parameterid + \". Created empty graph.\")\n",
    "                    break\n",
    "                except (ConnectionError, UnboundLocalError):\n",
    "                    print(\"ConnectionError or UnboundLocalError. Retrying.\")\n",
    "                    continue\n",
    "                except:\n",
    "                    print(\"Other error. Retrying.\")\n",
    "                    continue\n",
    "            if parameterinfo['export']:\n",
    "                ox_to_csv(Gs[parameterid], base_path + \"/\", placeid, parameterid)\n",
    "                ox.save_graph_geopackage(Gs[parameterid], filepath=base_path + \"/\" + placeid + \"_\" + parameterid + \".gpkg\", directed=False)\n",
    "\n",
    "        # Load and process LTN neighbourhoods (skip for no_ltn_scenario)\n",
    "        city_neighbourhood_streets = {}\n",
    "        if scenario != \"no_ltn_scenario\":\n",
    "            neighbourhoods = load_neighbourhoods(base_path + \"/\")\n",
    "            if not neighbourhoods:\n",
    "                print(placeid + \": No LTN dataset found.\")\n",
    "            else:\n",
    "                neighbourhoods = prepare_neighbourhoods(neighbourhoods)\n",
    "                for city_name, gdf in neighbourhoods.items():\n",
    "                    if debug:\n",
    "                        print(f\"Processing streets for {city_name}...\")\n",
    "                    # Patch cycle graphs with pedestrian links and get results\n",
    "                    results = patch_cycle_graph_with_pedestrian_links(neighbourhoods, debug=debug)\n",
    "                    for city_name, stats in results.items():\n",
    "                        patched_edges = stats.get(\"patched_edges\")\n",
    "                        if not patched_edges.empty:\n",
    "                            patched_edges.to_file(os.path.join(PATH[\"data\"], placeid, scenario, f\"{placeid}_patched_edges.gpkg\"), driver='GPKG'),\n",
    "                        nodes, edges = ox.graph_to_gdfs(stats['cycle_graph_after'])\n",
    "                        city_neighbourhood_streets[city_name] = {\n",
    "                            'nodes': nodes,\n",
    "                            'edges': edges,\n",
    "                            'neighbourhood_graphs': stats['cycle_graph_after']}\n",
    "                    # Plot and save patching stats & CSV\n",
    "                    output_plot_path = os.path.join(PATH[\"plots\"] + \"/\" + placeid + \"/\" + scenario + \"/\" + f\"{placeid}_pedestrian_paths_in_ltn_analysis.png\")\n",
    "                    output_csv_path = os.path.join(PATH[\"results\"], placeid, scenario, \"pedestrian_in_ltn.csv\")\n",
    "                    plot_and_save_network_stats(results, output_plot_path, output_csv_path, scenario)\n",
    "\n",
    "        # Compose graphs\n",
    "        if scenario != \"no_ltn_scenario\" and city_name in city_neighbourhood_streets:\n",
    "            neighbourhood_graph = city_neighbourhood_streets[city_name]['neighbourhood_graphs']\n",
    "            neighbourhood_graph = clean_edge_attributes(neighbourhood_graph)\n",
    "            Gs['biketrack'] = nx.compose_all([\n",
    "                Gs['bike_cyclewaylefttrack'], Gs['bike_cyclewaytrack'],\n",
    "                Gs['bike_highwaycycleway'], Gs['bike_bicycleroad'],\n",
    "                Gs['bike_cyclewayrighttrack'], Gs['bike_designatedpath'],\n",
    "                Gs['bike_cyclestreet'], neighbourhood_graph\n",
    "            ])\n",
    "        else:\n",
    "            Gs['biketrack'] = nx.compose_all([\n",
    "                Gs['bike_cyclewaylefttrack'], Gs['bike_cyclewaytrack'],\n",
    "                Gs['bike_highwaycycleway'], Gs['bike_bicycleroad'],\n",
    "                Gs['bike_cyclewayrighttrack'], Gs['bike_designatedpath'],\n",
    "                Gs['bike_cyclestreet']\n",
    "            ])\n",
    "\n",
    "        parameterid = 'biketrack'\n",
    "        ox_to_csv(Gs[parameterid], base_path + \"/\", placeid, parameterid)\n",
    "        ox.save_graph_geopackage(Gs[parameterid], filepath=base_path + \"/\" + placeid + \"_\" + parameterid + \".gpkg\", directed=False)\n",
    "\n",
    "        parameterid = 'bikeable'\n",
    "        Gs[parameterid] = nx.compose_all([Gs['biketrack'], Gs['car30'], Gs['bike_livingstreet']])\n",
    "        ox_to_csv(Gs[parameterid], base_path + \"/\", placeid, parameterid)\n",
    "        ox.save_graph_geopackage(Gs[parameterid], filepath=base_path + \"/\" + placeid + \"_\" + parameterid + \".gpkg\", directed=False)\n",
    "\n",
    "        parameterid = 'biketrackcarall'\n",
    "        Gs[parameterid] = nx.compose(Gs['biketrack'], Gs['carall'])\n",
    "        ox_to_csv(Gs[parameterid], base_path + \"/\", placeid, parameterid)\n",
    "        ox.save_graph_geopackage(Gs[parameterid], filepath=base_path + \"/\" + placeid + \"_\" + parameterid + \".gpkg\", directed=False)\n",
    "\n",
    "        parameterid = 'biketrack_no_ltn'\n",
    "        Gs[parameterid] = nx.compose_all([\n",
    "            Gs['bike_cyclewaylefttrack'], Gs['bike_cyclewaytrack'],\n",
    "            Gs['bike_highwaycycleway'], Gs['bike_bicycleroad'],\n",
    "            Gs['bike_cyclewayrighttrack'], Gs['bike_designatedpath'],\n",
    "            Gs['bike_cyclestreet']\n",
    "        ])\n",
    "        ox_to_csv(Gs[parameterid], base_path + \"/\", placeid, parameterid)\n",
    "        ox.save_graph_geopackage(Gs[parameterid], filepath=base_path + \"/\" + placeid + \"_\" + parameterid + \".gpkg\", directed=False)\n",
    "\n",
    "        for parameterid in networktypes[:-2]:\n",
    "            ox_to_csv(ox.simplify_graph(Gs[parameterid]), base_path + \"/\", placeid, parameterid, \"_simplified\")\n"
   ]
  },
  {
   "cell_type": "code",
   "execution_count": null,
   "metadata": {},
   "outputs": [],
   "source": [
    "# Compress all data files (will not do anything if files were compressed already)\n",
    "for folder, subfolders, files in os.walk(PATH[\"data\"]):\n",
    "    for file in files:\n",
    "        if file.endswith('es.csv'):\n",
    "            compress_file(folder + \"/\", file.split(\".\")[0])"
   ]
  },
  {
   "cell_type": "code",
   "execution_count": null,
   "metadata": {},
   "outputs": [],
   "source": [
    "Audio(sound_file, autoplay=True)"
   ]
  }
 ],
 "metadata": {
  "kernelspec": {
   "display_name": "Python 3",
   "language": "python",
   "name": "python3"
  },
  "language_info": {
   "codemirror_mode": {
    "name": "ipython",
    "version": 3
   },
   "file_extension": ".py",
   "mimetype": "text/x-python",
   "name": "python",
   "nbconvert_exporter": "python",
   "pygments_lexer": "ipython3",
   "version": "3.12.6"
  }
 },
 "nbformat": 4,
 "nbformat_minor": 4
}
