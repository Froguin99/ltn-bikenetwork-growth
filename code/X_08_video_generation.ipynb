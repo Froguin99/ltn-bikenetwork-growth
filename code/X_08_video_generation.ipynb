{
 "cells": [
  {
   "cell_type": "markdown",
   "metadata": {},
   "source": [
    "# Step 6 - Making videos of the plots\n",
    "## Project: Growing Urban Bicycle Networks"
   ]
  },
  {
   "cell_type": "markdown",
   "metadata": {},
   "source": [
    "This notebook takes the plots from 05_plot_results and creates videos out of them. Run a kernel which has opencv-python available!\n",
    "\n",
    "Contact: Michael Szell (michael.szell@gmail.com)  \n",
    "Created: 2020-09-02  \n",
    "Last modified: 2024-09-24"
   ]
  },
  {
   "cell_type": "markdown",
   "metadata": {},
   "source": [
    "## Preliminaries"
   ]
  },
  {
   "cell_type": "markdown",
   "metadata": {},
   "source": [
    "### Parameters"
   ]
  },
  {
   "cell_type": "code",
   "execution_count": 10,
   "metadata": {},
   "outputs": [
    {
     "name": "stdout",
     "output_type": "stream",
     "text": [
      "Loaded parameters.\n",
      "\n"
     ]
    }
   ],
   "source": [
    "debug = False # If True, will produce plots and/or verbose output to double-check\n",
    "vfileformat = \"webm\" # \"webm\" or \"mp4\"\n",
    "%run -i \"../parameters/parameters.py\""
   ]
  },
  {
   "cell_type": "markdown",
   "metadata": {},
   "source": [
    "### Setup"
   ]
  },
  {
   "cell_type": "code",
   "execution_count": 11,
   "metadata": {},
   "outputs": [
    {
     "name": "stdout",
     "output_type": "stream",
     "text": [
      "Loaded PATH.\n",
      "\n"
     ]
    }
   ],
   "source": [
    "%run -i path.py\n",
    "\n",
    "import csv\n",
    "cities = {}\n",
    "with open(PATH[\"parameters\"] + 'cities.csv') as f:\n",
    "    csvreader = csv.DictReader(f, delimiter=';')\n",
    "    for row in csvreader:\n",
    "        cities[row['placeid']] = {}\n",
    "        for field in csvreader.fieldnames[1:]:\n",
    "            cities[row['placeid']][field] = row[field] \n",
    "\n",
    "import cv2\n",
    "import os\n",
    "from tqdm.notebook import tqdm\n",
    "import itertools"
   ]
  },
  {
   "cell_type": "markdown",
   "metadata": {},
   "source": [
    "### Functions"
   ]
  },
  {
   "cell_type": "code",
   "execution_count": 12,
   "metadata": {},
   "outputs": [
    {
     "name": "stdout",
     "output_type": "stream",
     "text": [
      "Loaded functions.\n",
      "\n"
     ]
    }
   ],
   "source": [
    "from shapely.geometry import Polygon\n",
    "import igraph as ig\n",
    "%run -i functions.py"
   ]
  },
  {
   "cell_type": "markdown",
   "metadata": {},
   "source": [
    "## Generate Videos"
   ]
  },
  {
   "cell_type": "markdown",
   "metadata": {},
   "source": [
    "### POI based results"
   ]
  },
  {
   "cell_type": "code",
   "execution_count": 13,
   "metadata": {},
   "outputs": [
    {
     "name": "stdout",
     "output_type": "stream",
     "text": [
      "grid betweenness\n"
     ]
    },
    {
     "data": {
      "application/vnd.jupyter.widget-view+json": {
       "model_id": "d37469e4ed0346ae91224ea974d07698",
       "version_major": 2,
       "version_minor": 0
      },
      "text/plain": [
       "Cities:   0%|          | 0/1 [00:00<?, ?it/s]"
      ]
     },
     "metadata": {},
     "output_type": "display_data"
    },
    {
     "name": "stdout",
     "output_type": "stream",
     "text": [
      "grid closeness\n"
     ]
    },
    {
     "data": {
      "application/vnd.jupyter.widget-view+json": {
       "model_id": "870223fd5785411d95ce36ecf7bee239",
       "version_major": 2,
       "version_minor": 0
      },
      "text/plain": [
       "Cities:   0%|          | 0/1 [00:00<?, ?it/s]"
      ]
     },
     "metadata": {},
     "output_type": "display_data"
    },
    {
     "name": "stdout",
     "output_type": "stream",
     "text": [
      "grid random\n"
     ]
    },
    {
     "data": {
      "application/vnd.jupyter.widget-view+json": {
       "model_id": "25f72cd867d94ffda93e62fc73e9e64f",
       "version_major": 2,
       "version_minor": 0
      },
      "text/plain": [
       "Cities:   0%|          | 0/1 [00:00<?, ?it/s]"
      ]
     },
     "metadata": {},
     "output_type": "display_data"
    },
    {
     "name": "stdout",
     "output_type": "stream",
     "text": [
      "railwaystation betweenness\n"
     ]
    },
    {
     "data": {
      "application/vnd.jupyter.widget-view+json": {
       "model_id": "392f531f188b4dfb9b097f9d4b387432",
       "version_major": 2,
       "version_minor": 0
      },
      "text/plain": [
       "Cities:   0%|          | 0/1 [00:00<?, ?it/s]"
      ]
     },
     "metadata": {},
     "output_type": "display_data"
    },
    {
     "name": "stdout",
     "output_type": "stream",
     "text": [
      "railwaystation closeness\n"
     ]
    },
    {
     "data": {
      "application/vnd.jupyter.widget-view+json": {
       "model_id": "522ab1359c2e4d95884b6e9196698220",
       "version_major": 2,
       "version_minor": 0
      },
      "text/plain": [
       "Cities:   0%|          | 0/1 [00:00<?, ?it/s]"
      ]
     },
     "metadata": {},
     "output_type": "display_data"
    },
    {
     "name": "stdout",
     "output_type": "stream",
     "text": [
      "railwaystation random\n"
     ]
    },
    {
     "data": {
      "application/vnd.jupyter.widget-view+json": {
       "model_id": "042561fa63354082af4d2500b3416c31",
       "version_major": 2,
       "version_minor": 0
      },
      "text/plain": [
       "Cities:   0%|          | 0/1 [00:00<?, ?it/s]"
      ]
     },
     "metadata": {},
     "output_type": "display_data"
    },
    {
     "name": "stdout",
     "output_type": "stream",
     "text": [
      "neighbourhoods betweenness\n"
     ]
    },
    {
     "data": {
      "application/vnd.jupyter.widget-view+json": {
       "model_id": "17722e77f8d444e39b7737b57f991719",
       "version_major": 2,
       "version_minor": 0
      },
      "text/plain": [
       "Cities:   0%|          | 0/1 [00:00<?, ?it/s]"
      ]
     },
     "metadata": {},
     "output_type": "display_data"
    },
    {
     "name": "stdout",
     "output_type": "stream",
     "text": [
      "Video newcastle_GTall_poi_neighbourhoods_Bq.webm generated from 40 frames.\n",
      "Video newcastle_GTabstract_poi_neighbourhoods_Bq.webm generated from 40 frames.\n",
      "Video newcastle_GTallcover_poi_neighbourhoods_Bq.webm generated from 40 frames.\n",
      "neighbourhoods closeness\n"
     ]
    },
    {
     "data": {
      "application/vnd.jupyter.widget-view+json": {
       "model_id": "0e517afe69b04e65b0b19c7d4d9b19ae",
       "version_major": 2,
       "version_minor": 0
      },
      "text/plain": [
       "Cities:   0%|          | 0/1 [00:00<?, ?it/s]"
      ]
     },
     "metadata": {},
     "output_type": "display_data"
    },
    {
     "name": "stdout",
     "output_type": "stream",
     "text": [
      "neighbourhoods random\n"
     ]
    },
    {
     "data": {
      "application/vnd.jupyter.widget-view+json": {
       "model_id": "e13f359a59114d0a84a0d358681dd1ab",
       "version_major": 2,
       "version_minor": 0
      },
      "text/plain": [
       "Cities:   0%|          | 0/1 [00:00<?, ?it/s]"
      ]
     },
     "metadata": {},
     "output_type": "display_data"
    }
   ],
   "source": [
    "# Run all parameter sets\n",
    "poi_source_list = [\"grid\", \"railwaystation\", \"neighbourhoods\"]\n",
    "prune_measure_list = [\"betweenness\", \"closeness\", \"random\"]\n",
    "parsets_used = list(itertools.product(poi_source_list, prune_measure_list))\n",
    "for poi_source_this, prune_measure_this in parsets_used:\n",
    "    print(poi_source_this, prune_measure_this)\n",
    "    \n",
    "    for placeid, placeinfo in tqdm(cities.items(), desc = \"Cities\"):\n",
    "        try:\n",
    "            imgname = '_GTall_poi_' + poi_source_this + \"_\" + prune_measures[prune_measure_this]\n",
    "            generate_video(placeid, imgname, vformat = vfileformat)\n",
    "            imgname = '_GTabstract_poi_' + poi_source_this + \"_\" + prune_measures[prune_measure_this]\n",
    "            generate_video(placeid, imgname, vformat = vfileformat)\n",
    "            imgname = '_GTallcover_poi_' + poi_source_this + \"_\" + prune_measures[prune_measure_this]\n",
    "            generate_video(placeid, imgname, vformat = vfileformat)\n",
    "#             imgname = '_GTalloverlapbikeable_poi_' + poi_source_this + \"_\" + prune_measures[prune_measure_this]\n",
    "#             generate_video(placeid, imgname, vformat = vfileformat)\n",
    "#             imgname = '_GTalloverlapbiketrack_poi_' + poi_source_this + \"_\" + prune_measures[prune_measure_this]\n",
    "#             generate_video(placeid, imgname, vformat = vfileformat)\n",
    "        except IndexError:\n",
    "            continue\n",
    "        "
   ]
  }
 ],
 "metadata": {
  "kernelspec": {
   "display_name": "Python 3",
   "language": "python",
   "name": "python3"
  },
  "language_info": {
   "codemirror_mode": {
    "name": "ipython",
    "version": 3
   },
   "file_extension": ".py",
   "mimetype": "text/x-python",
   "name": "python",
   "nbconvert_exporter": "python",
   "pygments_lexer": "ipython3",
   "version": "3.12.6"
  }
 },
 "nbformat": 4,
 "nbformat_minor": 4
}
