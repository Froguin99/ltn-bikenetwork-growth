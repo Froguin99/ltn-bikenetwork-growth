{
 "cells": [
  {
   "cell_type": "markdown",
   "metadata": {},
   "source": [
    "# Extra notebook - Exporting graphs and data for external visualization, further calculations\n",
    "## Project: Growing Urban Bicycle Networks"
   ]
  },
  {
   "cell_type": "markdown",
   "metadata": {},
   "source": [
    "This is a temporary notebook which was needed to export data for creating the growbike.net platform. It takes the produced graphs or data from previous steps and exports the data in a format in which it can be used in an external visualization, or for further calculations. \n",
    "\n",
    "Contact: Michael Szell (michael.szell@gmail.com)  \n",
    "Created: 2020-09-25  \n",
    "Last modified: 2021-06-26"
   ]
  },
  {
   "cell_type": "markdown",
   "metadata": {},
   "source": [
    "## Preliminaries"
   ]
  },
  {
   "cell_type": "markdown",
   "metadata": {},
   "source": [
    "### Parameters"
   ]
  },
  {
   "cell_type": "code",
   "execution_count": 1,
   "metadata": {},
   "outputs": [
    {
     "name": "stdout",
     "output_type": "stream",
     "text": [
      "Loaded parameters.\n",
      "\n"
     ]
    }
   ],
   "source": [
    "debug = False # If True, will produce plots and/or verbose output to double-check\n",
    "%run -i \"../parameters/parameters.py\""
   ]
  },
  {
   "cell_type": "markdown",
   "metadata": {},
   "source": [
    "### Setup"
   ]
  },
  {
   "cell_type": "code",
   "execution_count": 2,
   "metadata": {},
   "outputs": [
    {
     "name": "stdout",
     "output_type": "stream",
     "text": [
      "Loaded PATH.\n",
      "\n",
      "Setup finished.\n",
      "\n",
      "Python implementation: CPython\n",
      "Python version       : 3.12.6\n",
      "IPython version      : 8.29.0\n",
      "\n",
      "Compiler    : MSC v.1941 64 bit (AMD64)\n",
      "OS          : Windows\n",
      "Release     : 10\n",
      "Machine     : AMD64\n",
      "Processor   : Intel64 Family 6 Model 140 Stepping 1, GenuineIntel\n",
      "CPU cores   : 8\n",
      "Architecture: 64bit\n",
      "\n",
      "Git hash: 4c5cd0bc50c1c154868417f99214b4182b4fb9b5\n",
      "\n",
      "pandas    : 2.2.3\n",
      "igraph    : 0.11.6\n",
      "owslib    : 0.32.0\n",
      "momepy    : 0.8.1\n",
      "networkx  : 3.3\n",
      "fiona     : 1.10.1\n",
      "geopandas : 0.14.4\n",
      "json      : 2.0.9\n",
      "osmnx     : 1.9.4\n",
      "numpy     : 1.26.4\n",
      "osgeo     : 3.9.3\n",
      "pyproj    : 3.7.0\n",
      "csv       : 1.0\n",
      "matplotlib: 3.8.4\n",
      "watermark : 2.5.0\n",
      "haversine : 2.8.1\n",
      "rasterio  : 1.3.11\n",
      "shapely   : 2.0.6\n",
      "tqdm      : 4.66.5\n",
      "sys       : 3.12.6 | packaged by conda-forge | (main, Sep 22 2024, 14:01:26) [MSC v.1941 64 bit (AMD64)]\n",
      "IPython   : 8.29.0\n",
      "geojson   : 3.1.0\n",
      "\n"
     ]
    }
   ],
   "source": [
    "%run -i path.py\n",
    "%run -i setup.py\n",
    "\n",
    "%load_ext watermark\n",
    "%watermark -n -v -m -g -iv"
   ]
  },
  {
   "cell_type": "markdown",
   "metadata": {},
   "source": [
    "### Functions"
   ]
  },
  {
   "cell_type": "code",
   "execution_count": 3,
   "metadata": {},
   "outputs": [
    {
     "name": "stdout",
     "output_type": "stream",
     "text": [
      "Loaded functions.\n",
      "\n"
     ]
    }
   ],
   "source": [
    "%run -i functions.py"
   ]
  },
  {
   "cell_type": "code",
   "execution_count": 4,
   "metadata": {},
   "outputs": [],
   "source": [
    "# Run all parameter sets\n",
    "poi_source_list = [\"LTNs_tessellation\",\n",
    "                    \"grid\", \n",
    "                   \"railwaystation\", \n",
    "                   \"neighbourhoods\"\n",
    "                   ]\n",
    "prune_measure_list = [\"betweenness\", \"closeness\", \"random\"]\n",
    "combs = list(itertools.product(poi_source_list, prune_measure_list))"
   ]
  },
  {
   "cell_type": "markdown",
   "metadata": {},
   "source": [
    "## Igraph to GeoJSON"
   ]
  },
  {
   "cell_type": "code",
   "execution_count": 5,
   "metadata": {},
   "outputs": [],
   "source": [
    "# edited to avoid stopping if all types of parameters haven't been run yet - 09 Oct 2024"
   ]
  },
  {
   "cell_type": "code",
   "execution_count": 6,
   "metadata": {},
   "outputs": [
    {
     "data": {
      "application/vnd.jupyter.widget-view+json": {
       "model_id": "62263fe4016149149554d783123ce449",
       "version_major": 2,
       "version_minor": 0
      },
      "text/plain": [
       "Cities:   0%|          | 0/1 [00:00<?, ?it/s]"
      ]
     },
     "metadata": {},
     "output_type": "display_data"
    },
    {
     "name": "stdout",
     "output_type": "stream",
     "text": [
      "newcastle: Exporting streets to GeoJSON\n"
     ]
    },
    {
     "name": "stderr",
     "output_type": "stream",
     "text": [
      "C:\\Users\\b8008458\\OneDrive - Newcastle University\\2022 to 2023\\PhD\\networkGrowth\\bikenwgrowth\\code\\functions.py:507: DtypeWarning: Columns (14) have mixed types. Specify dtype option on import or set low_memory=False.\n",
      "  e = pd.read_csv(p + prefix + '_edges.csv')\n"
     ]
    },
    {
     "name": "stdout",
     "output_type": "stream",
     "text": [
      "newcastle: Exporting simulation results to GeoJSON\n",
      "File not found for newcastle_poi_LTNs_tessellation_closeness even after removing '_weighted', skipping to the next.\n",
      "File not found for newcastle_poi_LTNs_tessellation_random even after removing '_weighted', skipping to the next.\n",
      "File not found for newcastle_poi_grid_betweenness even after removing '_weighted', skipping to the next.\n",
      "File not found for newcastle_poi_grid_closeness even after removing '_weighted', skipping to the next.\n",
      "File not found for newcastle_poi_grid_random even after removing '_weighted', skipping to the next.\n",
      "File not found for newcastle_poi_railwaystation_closeness even after removing '_weighted', skipping to the next.\n",
      "File not found for newcastle_poi_railwaystation_random even after removing '_weighted', skipping to the next.\n",
      "File not found for newcastle_poi_neighbourhoods_betweenness even after removing '_weighted', skipping to the next.\n",
      "File not found for newcastle_poi_neighbourhoods_closeness even after removing '_weighted', skipping to the next.\n",
      "File not found for newcastle_poi_neighbourhoods_random even after removing '_weighted', skipping to the next.\n"
     ]
    }
   ],
   "source": [
    "for placeid, placeinfo in tqdm(cities.items(), desc=\"Cities\"):\n",
    "    print(placeid + \": Exporting streets to GeoJSON\")\n",
    "    Gs = {}\n",
    "    for networktype in networktypes:\n",
    "        Gs[networktype] = csv_to_ig(PATH[\"data\"] + placeid + \"/\", placeid, networktype, weighting)\n",
    "        Gs[networktype + \"_simplified\"] = csv_to_ig(PATH[\"data\"] + placeid + \"/\", placeid, networktype + \"_simplified\", weighting)\n",
    "    for nw, G in Gs.items():\n",
    "        G_geojson = ig_to_geojson(G)\n",
    "        # Only add '_weighted' if it's not already present in the networktype\n",
    "        filename_suffix = \"_weighted\" if weighting and \"weighted\" not in nw else \"\"\n",
    "        with open(PATH[\"exports_json\"] + placeid + \"/\" + placeid + \"_\" + nw + filename_suffix + '.json', 'w') as f:\n",
    "            geojson.dump(G_geojson, f)\n",
    "    print(placeid + \": Exporting simulation results to GeoJSON\")\n",
    "    for poi_source, prune_measure in combs:\n",
    "        # Modify filename based on weighting flag\n",
    "        weighting_str = \"_weighted\" if weighting else \"\"\n",
    "        filename = placeid + '_poi_' + poi_source + \"_\" + prune_measure + weighting_str\n",
    "        try:\n",
    "            # Try loading the file with or without the \"_weighted\" suffix\n",
    "            with open(PATH[\"results\"] + placeid + \"/\" + filename + \".pickle\", 'rb') as resultfile:\n",
    "                res = pickle.load(resultfile)\n",
    "            if debug:\n",
    "                pp.pprint(res)\n",
    "\n",
    "            # Process the results\n",
    "            for GT, GT_abstract, prune_quantile in zip(res[\"GTs\"], res[\"GT_abstracts\"], res[\"prune_quantiles\"]):\n",
    "                GT_geojson = ig_to_geojson(GT)\n",
    "                \n",
    "                # Add '_weighted' only if it's not already part of the filename\n",
    "                filename_suffix = \"_weighted\" if weighting and \"weighted\" not in prune_measures[prune_measure] else \"\"\n",
    "                with open(PATH[\"exports_json\"] + placeid + \"/\" + placeid + '_GTbonly_poi_' + poi_source + \"_\" + prune_measures[prune_measure] + \"{:.3f}\".format(prune_quantile) + filename_suffix + '.json', 'w') as f:\n",
    "                    geojson.dump(GT_geojson, f)\n",
    "\n",
    "        except FileNotFoundError:\n",
    "            # Attempt to load the file without the weighting suffix if it fails\n",
    "            if weighting:\n",
    "                filename = placeid + '_poi_' + poi_source + \"_\" + prune_measure\n",
    "                try:\n",
    "                    with open(PATH[\"results\"] + placeid + \"/\" + filename + \".pickle\", 'rb') as resultfile:\n",
    "                        res = pickle.load(resultfile)\n",
    "                    # Successfully loaded the file without weighting, process as normal\n",
    "                    for GT, GT_abstract, prune_quantile in zip(res[\"GTs\"], res[\"GT_abstracts\"], res[\"prune_quantiles\"]):\n",
    "                        GT_geojson = ig_to_geojson(GT)\n",
    "                        with open(PATH[\"exports_json\"] + placeid + \"/\" + placeid + '_GTbonly_poi_' + poi_source + \"_\" + prune_measures[prune_measure] + \"{:.3f}\".format(prune_quantile) + '.json', 'w') as f:\n",
    "                            geojson.dump(GT_geojson, f)\n",
    "                except FileNotFoundError:\n",
    "                    print(f\"File not found for {filename} even after removing '_weighted', skipping to the next.\")\n",
    "            else:\n",
    "                print(f\"File not found for {filename}, skipping to the next.\")\n"
   ]
  },
  {
   "cell_type": "code",
   "execution_count": null,
   "metadata": {},
   "outputs": [
    {
     "name": "stdout",
     "output_type": "stream",
     "text": [
      "Starting conversion of all JSON files to GeoPackages...\n"
     ]
    },
    {
     "ename": "KeyboardInterrupt",
     "evalue": "",
     "output_type": "error",
     "traceback": [
      "\u001b[1;31m---------------------------------------------------------------------------\u001b[0m",
      "\u001b[1;31mKeyboardInterrupt\u001b[0m                         Traceback (most recent call last)",
      "Cell \u001b[1;32mIn[7], line 47\u001b[0m\n\u001b[0;32m     44\u001b[0m base_directory \u001b[38;5;241m=\u001b[39m PATH[\u001b[38;5;124m\"\u001b[39m\u001b[38;5;124mexports_json\u001b[39m\u001b[38;5;124m\"\u001b[39m]  \u001b[38;5;66;03m# Adjust this to your base directory\u001b[39;00m\n\u001b[0;32m     46\u001b[0m \u001b[38;5;28mprint\u001b[39m(\u001b[38;5;124m\"\u001b[39m\u001b[38;5;124mStarting conversion of all JSON files to GeoPackages...\u001b[39m\u001b[38;5;124m\"\u001b[39m)\n\u001b[1;32m---> 47\u001b[0m \u001b[43mprocess_all_json_files\u001b[49m\u001b[43m(\u001b[49m\u001b[43mbase_directory\u001b[49m\u001b[43m)\u001b[49m\n\u001b[0;32m     48\u001b[0m \u001b[38;5;28mprint\u001b[39m(\u001b[38;5;124m\"\u001b[39m\u001b[38;5;124mAll conversions completed.\u001b[39m\u001b[38;5;124m\"\u001b[39m)\n",
      "Cell \u001b[1;32mIn[7], line 41\u001b[0m, in \u001b[0;36mprocess_all_json_files\u001b[1;34m(base_directory)\u001b[0m\n\u001b[0;32m     39\u001b[0m \u001b[38;5;28;01mif\u001b[39;00m debug \u001b[38;5;241m==\u001b[39m \u001b[38;5;28;01mTrue\u001b[39;00m:\n\u001b[0;32m     40\u001b[0m     \u001b[38;5;28mprint\u001b[39m(\u001b[38;5;124mf\u001b[39m\u001b[38;5;124m\"\u001b[39m\u001b[38;5;124mProcessing file: \u001b[39m\u001b[38;5;132;01m{\u001b[39;00minput_file\u001b[38;5;132;01m}\u001b[39;00m\u001b[38;5;124m for placeid: \u001b[39m\u001b[38;5;132;01m{\u001b[39;00mplaceid\u001b[38;5;132;01m}\u001b[39;00m\u001b[38;5;124m\"\u001b[39m)\n\u001b[1;32m---> 41\u001b[0m \u001b[43mprocess_json_file\u001b[49m\u001b[43m(\u001b[49m\u001b[43minput_file\u001b[49m\u001b[43m,\u001b[49m\u001b[43m \u001b[49m\u001b[43mplaceid\u001b[49m\u001b[43m)\u001b[49m\n",
      "Cell \u001b[1;32mIn[7], line 27\u001b[0m, in \u001b[0;36mprocess_json_file\u001b[1;34m(input_file, placeid)\u001b[0m\n\u001b[0;32m     25\u001b[0m \u001b[38;5;66;03m# Save the GeoDataFrame to a GeoPackage\u001b[39;00m\n\u001b[0;32m     26\u001b[0m output_file_gpkg \u001b[38;5;241m=\u001b[39m os\u001b[38;5;241m.\u001b[39mpath\u001b[38;5;241m.\u001b[39mjoin(place_output_directory, os\u001b[38;5;241m.\u001b[39mpath\u001b[38;5;241m.\u001b[39mbasename(input_file)\u001b[38;5;241m.\u001b[39mreplace(\u001b[38;5;124m\"\u001b[39m\u001b[38;5;124m.json\u001b[39m\u001b[38;5;124m\"\u001b[39m, \u001b[38;5;124m\"\u001b[39m\u001b[38;5;124m.gpkg\u001b[39m\u001b[38;5;124m\"\u001b[39m))\n\u001b[1;32m---> 27\u001b[0m \u001b[43mgdf_lines\u001b[49m\u001b[38;5;241;43m.\u001b[39;49m\u001b[43mto_file\u001b[49m\u001b[43m(\u001b[49m\u001b[43moutput_file_gpkg\u001b[49m\u001b[43m,\u001b[49m\u001b[43m \u001b[49m\u001b[43mdriver\u001b[49m\u001b[38;5;241;43m=\u001b[39;49m\u001b[38;5;124;43m'\u001b[39;49m\u001b[38;5;124;43mGPKG\u001b[39;49m\u001b[38;5;124;43m'\u001b[39;49m\u001b[43m,\u001b[49m\u001b[43m \u001b[49m\u001b[43mlayer\u001b[49m\u001b[38;5;241;43m=\u001b[39;49m\u001b[38;5;124;43m'\u001b[39;49m\u001b[38;5;124;43mlines\u001b[39;49m\u001b[38;5;124;43m'\u001b[39;49m\u001b[43m)\u001b[49m\n\u001b[0;32m     29\u001b[0m \u001b[38;5;28;01mif\u001b[39;00m debug:\n\u001b[0;32m     30\u001b[0m     \u001b[38;5;28mprint\u001b[39m(\u001b[38;5;124mf\u001b[39m\u001b[38;5;124m\"\u001b[39m\u001b[38;5;124mConverted \u001b[39m\u001b[38;5;132;01m{\u001b[39;00mos\u001b[38;5;241m.\u001b[39mpath\u001b[38;5;241m.\u001b[39mbasename(input_file)\u001b[38;5;132;01m}\u001b[39;00m\u001b[38;5;124m to GeoPackage and saved to \u001b[39m\u001b[38;5;132;01m{\u001b[39;00mplace_output_directory\u001b[38;5;132;01m}\u001b[39;00m\u001b[38;5;124m\"\u001b[39m)\n",
      "File \u001b[1;32mc:\\Users\\b8008458\\AppData\\Local\\miniforge3\\envs\\growbikenet\\Lib\\site-packages\\geopandas\\geodataframe.py:1249\u001b[0m, in \u001b[0;36mGeoDataFrame.to_file\u001b[1;34m(self, filename, driver, schema, index, **kwargs)\u001b[0m\n\u001b[0;32m   1158\u001b[0m \u001b[38;5;250m\u001b[39m\u001b[38;5;124;03m\"\"\"Write the ``GeoDataFrame`` to a file.\u001b[39;00m\n\u001b[0;32m   1159\u001b[0m \n\u001b[0;32m   1160\u001b[0m \u001b[38;5;124;03mBy default, an ESRI shapefile is written, but any OGR data source\u001b[39;00m\n\u001b[1;32m   (...)\u001b[0m\n\u001b[0;32m   1245\u001b[0m \n\u001b[0;32m   1246\u001b[0m \u001b[38;5;124;03m\"\"\"\u001b[39;00m\n\u001b[0;32m   1247\u001b[0m \u001b[38;5;28;01mfrom\u001b[39;00m \u001b[38;5;21;01mgeopandas\u001b[39;00m\u001b[38;5;21;01m.\u001b[39;00m\u001b[38;5;21;01mio\u001b[39;00m\u001b[38;5;21;01m.\u001b[39;00m\u001b[38;5;21;01mfile\u001b[39;00m \u001b[38;5;28;01mimport\u001b[39;00m _to_file\n\u001b[1;32m-> 1249\u001b[0m \u001b[43m_to_file\u001b[49m\u001b[43m(\u001b[49m\u001b[38;5;28;43mself\u001b[39;49m\u001b[43m,\u001b[49m\u001b[43m \u001b[49m\u001b[43mfilename\u001b[49m\u001b[43m,\u001b[49m\u001b[43m \u001b[49m\u001b[43mdriver\u001b[49m\u001b[43m,\u001b[49m\u001b[43m \u001b[49m\u001b[43mschema\u001b[49m\u001b[43m,\u001b[49m\u001b[43m \u001b[49m\u001b[43mindex\u001b[49m\u001b[43m,\u001b[49m\u001b[43m \u001b[49m\u001b[38;5;241;43m*\u001b[39;49m\u001b[38;5;241;43m*\u001b[39;49m\u001b[43mkwargs\u001b[49m\u001b[43m)\u001b[49m\n",
      "File \u001b[1;32mc:\\Users\\b8008458\\AppData\\Local\\miniforge3\\envs\\growbikenet\\Lib\\site-packages\\geopandas\\io\\file.py:610\u001b[0m, in \u001b[0;36m_to_file\u001b[1;34m(df, filename, driver, schema, index, mode, crs, engine, **kwargs)\u001b[0m\n\u001b[0;32m    607\u001b[0m     \u001b[38;5;28;01mraise\u001b[39;00m \u001b[38;5;167;01mValueError\u001b[39;00m(\u001b[38;5;124mf\u001b[39m\u001b[38;5;124m\"\u001b[39m\u001b[38;5;124m'\u001b[39m\u001b[38;5;124mmode\u001b[39m\u001b[38;5;124m'\u001b[39m\u001b[38;5;124m should be one of \u001b[39m\u001b[38;5;124m'\u001b[39m\u001b[38;5;124mw\u001b[39m\u001b[38;5;124m'\u001b[39m\u001b[38;5;124m or \u001b[39m\u001b[38;5;124m'\u001b[39m\u001b[38;5;124ma\u001b[39m\u001b[38;5;124m'\u001b[39m\u001b[38;5;124m, got \u001b[39m\u001b[38;5;124m'\u001b[39m\u001b[38;5;132;01m{\u001b[39;00mmode\u001b[38;5;132;01m}\u001b[39;00m\u001b[38;5;124m'\u001b[39m\u001b[38;5;124m instead\u001b[39m\u001b[38;5;124m\"\u001b[39m)\n\u001b[0;32m    609\u001b[0m \u001b[38;5;28;01mif\u001b[39;00m engine \u001b[38;5;241m==\u001b[39m \u001b[38;5;124m\"\u001b[39m\u001b[38;5;124mfiona\u001b[39m\u001b[38;5;124m\"\u001b[39m:\n\u001b[1;32m--> 610\u001b[0m     \u001b[43m_to_file_fiona\u001b[49m\u001b[43m(\u001b[49m\u001b[43mdf\u001b[49m\u001b[43m,\u001b[49m\u001b[43m \u001b[49m\u001b[43mfilename\u001b[49m\u001b[43m,\u001b[49m\u001b[43m \u001b[49m\u001b[43mdriver\u001b[49m\u001b[43m,\u001b[49m\u001b[43m \u001b[49m\u001b[43mschema\u001b[49m\u001b[43m,\u001b[49m\u001b[43m \u001b[49m\u001b[43mcrs\u001b[49m\u001b[43m,\u001b[49m\u001b[43m \u001b[49m\u001b[43mmode\u001b[49m\u001b[43m,\u001b[49m\u001b[43m \u001b[49m\u001b[38;5;241;43m*\u001b[39;49m\u001b[38;5;241;43m*\u001b[39;49m\u001b[43mkwargs\u001b[49m\u001b[43m)\u001b[49m\n\u001b[0;32m    611\u001b[0m \u001b[38;5;28;01melif\u001b[39;00m engine \u001b[38;5;241m==\u001b[39m \u001b[38;5;124m\"\u001b[39m\u001b[38;5;124mpyogrio\u001b[39m\u001b[38;5;124m\"\u001b[39m:\n\u001b[0;32m    612\u001b[0m     _to_file_pyogrio(df, filename, driver, schema, crs, mode, \u001b[38;5;241m*\u001b[39m\u001b[38;5;241m*\u001b[39mkwargs)\n",
      "File \u001b[1;32mc:\\Users\\b8008458\\AppData\\Local\\miniforge3\\envs\\growbikenet\\Lib\\site-packages\\geopandas\\io\\file.py:641\u001b[0m, in \u001b[0;36m_to_file_fiona\u001b[1;34m(df, filename, driver, schema, crs, mode, **kwargs)\u001b[0m\n\u001b[0;32m    637\u001b[0m     crs_wkt \u001b[38;5;241m=\u001b[39m crs\u001b[38;5;241m.\u001b[39mto_wkt(\u001b[38;5;124m\"\u001b[39m\u001b[38;5;124mWKT1_GDAL\u001b[39m\u001b[38;5;124m\"\u001b[39m)\n\u001b[0;32m    638\u001b[0m \u001b[38;5;28;01mwith\u001b[39;00m fiona\u001b[38;5;241m.\u001b[39mopen(\n\u001b[0;32m    639\u001b[0m     filename, mode\u001b[38;5;241m=\u001b[39mmode, driver\u001b[38;5;241m=\u001b[39mdriver, crs_wkt\u001b[38;5;241m=\u001b[39mcrs_wkt, schema\u001b[38;5;241m=\u001b[39mschema, \u001b[38;5;241m*\u001b[39m\u001b[38;5;241m*\u001b[39mkwargs\n\u001b[0;32m    640\u001b[0m ) \u001b[38;5;28;01mas\u001b[39;00m colxn:\n\u001b[1;32m--> 641\u001b[0m     \u001b[43mcolxn\u001b[49m\u001b[38;5;241;43m.\u001b[39;49m\u001b[43mwriterecords\u001b[49m\u001b[43m(\u001b[49m\u001b[43mdf\u001b[49m\u001b[38;5;241;43m.\u001b[39;49m\u001b[43miterfeatures\u001b[49m\u001b[43m(\u001b[49m\u001b[43m)\u001b[49m\u001b[43m)\u001b[49m\n",
      "File \u001b[1;32mc:\\Users\\b8008458\\AppData\\Local\\miniforge3\\envs\\growbikenet\\Lib\\site-packages\\fiona\\collection.py:541\u001b[0m, in \u001b[0;36mCollection.writerecords\u001b[1;34m(self, records)\u001b[0m\n\u001b[0;32m    539\u001b[0m \u001b[38;5;28;01mif\u001b[39;00m \u001b[38;5;28mself\u001b[39m\u001b[38;5;241m.\u001b[39mmode \u001b[38;5;129;01mnot\u001b[39;00m \u001b[38;5;129;01min\u001b[39;00m (\u001b[38;5;124m\"\u001b[39m\u001b[38;5;124ma\u001b[39m\u001b[38;5;124m\"\u001b[39m, \u001b[38;5;124m\"\u001b[39m\u001b[38;5;124mw\u001b[39m\u001b[38;5;124m\"\u001b[39m):\n\u001b[0;32m    540\u001b[0m     \u001b[38;5;28;01mraise\u001b[39;00m \u001b[38;5;167;01mOSError\u001b[39;00m(\u001b[38;5;124m\"\u001b[39m\u001b[38;5;124mcollection not open for writing\u001b[39m\u001b[38;5;124m\"\u001b[39m)\n\u001b[1;32m--> 541\u001b[0m \u001b[38;5;28;43mself\u001b[39;49m\u001b[38;5;241;43m.\u001b[39;49m\u001b[43msession\u001b[49m\u001b[38;5;241;43m.\u001b[39;49m\u001b[43mwriterecs\u001b[49m\u001b[43m(\u001b[49m\u001b[43mrecords\u001b[49m\u001b[43m,\u001b[49m\u001b[43m \u001b[49m\u001b[38;5;28;43mself\u001b[39;49m\u001b[43m)\u001b[49m\n\u001b[0;32m    542\u001b[0m \u001b[38;5;28mself\u001b[39m\u001b[38;5;241m.\u001b[39m_len \u001b[38;5;241m=\u001b[39m \u001b[38;5;28mself\u001b[39m\u001b[38;5;241m.\u001b[39msession\u001b[38;5;241m.\u001b[39mget_length()\n\u001b[0;32m    543\u001b[0m \u001b[38;5;28mself\u001b[39m\u001b[38;5;241m.\u001b[39m_bounds \u001b[38;5;241m=\u001b[39m \u001b[38;5;28;01mNone\u001b[39;00m\n",
      "File \u001b[1;32mfiona\\\\ogrext.pyx:1649\u001b[0m, in \u001b[0;36mfiona.ogrext.WritingSession.writerecs\u001b[1;34m()\u001b[0m\n",
      "File \u001b[1;32mc:\\Users\\b8008458\\AppData\\Local\\miniforge3\\envs\\growbikenet\\Lib\\site-packages\\geopandas\\geodataframe.py:970\u001b[0m, in \u001b[0;36mGeoDataFrame.iterfeatures\u001b[1;34m(self, na, show_bbox, drop_id)\u001b[0m\n\u001b[0;32m    968\u001b[0m feature[\u001b[38;5;124m\"\u001b[39m\u001b[38;5;124mtype\u001b[39m\u001b[38;5;124m\"\u001b[39m] \u001b[38;5;241m=\u001b[39m \u001b[38;5;124m\"\u001b[39m\u001b[38;5;124mFeature\u001b[39m\u001b[38;5;124m\"\u001b[39m\n\u001b[0;32m    969\u001b[0m feature[\u001b[38;5;124m\"\u001b[39m\u001b[38;5;124mproperties\u001b[39m\u001b[38;5;124m\"\u001b[39m] \u001b[38;5;241m=\u001b[39m {}\n\u001b[1;32m--> 970\u001b[0m feature[\u001b[38;5;124m\"\u001b[39m\u001b[38;5;124mgeometry\u001b[39m\u001b[38;5;124m\"\u001b[39m] \u001b[38;5;241m=\u001b[39m mapping(geom) \u001b[38;5;28;01mif\u001b[39;00m geom \u001b[38;5;28;01melse\u001b[39;00m \u001b[38;5;28;01mNone\u001b[39;00m\n\u001b[0;32m    972\u001b[0m \u001b[38;5;28;01mif\u001b[39;00m show_bbox:\n\u001b[0;32m    973\u001b[0m     feature[\u001b[38;5;124m\"\u001b[39m\u001b[38;5;124mbbox\u001b[39m\u001b[38;5;124m\"\u001b[39m] \u001b[38;5;241m=\u001b[39m geom\u001b[38;5;241m.\u001b[39mbounds \u001b[38;5;28;01mif\u001b[39;00m geom \u001b[38;5;28;01melse\u001b[39;00m \u001b[38;5;28;01mNone\u001b[39;00m\n",
      "File \u001b[1;32mc:\\Users\\b8008458\\AppData\\Local\\miniforge3\\envs\\growbikenet\\Lib\\site-packages\\shapely\\geometry\\base.py:113\u001b[0m, in \u001b[0;36mBaseGeometry.__bool__\u001b[1;34m(self)\u001b[0m\n\u001b[0;32m    112\u001b[0m \u001b[38;5;28;01mdef\u001b[39;00m \u001b[38;5;21m__bool__\u001b[39m(\u001b[38;5;28mself\u001b[39m):\n\u001b[1;32m--> 113\u001b[0m     \u001b[38;5;28;01mreturn\u001b[39;00m \u001b[38;5;28;43mself\u001b[39;49m\u001b[38;5;241;43m.\u001b[39;49m\u001b[43mis_empty\u001b[49m \u001b[38;5;129;01mis\u001b[39;00m \u001b[38;5;28;01mFalse\u001b[39;00m\n",
      "File \u001b[1;32mc:\\Users\\b8008458\\AppData\\Local\\miniforge3\\envs\\growbikenet\\Lib\\site-packages\\shapely\\geometry\\base.py:629\u001b[0m, in \u001b[0;36mBaseGeometry.is_empty\u001b[1;34m(self)\u001b[0m\n\u001b[0;32m    626\u001b[0m \u001b[38;5;129m@property\u001b[39m\n\u001b[0;32m    627\u001b[0m \u001b[38;5;28;01mdef\u001b[39;00m \u001b[38;5;21mis_empty\u001b[39m(\u001b[38;5;28mself\u001b[39m):\n\u001b[0;32m    628\u001b[0m \u001b[38;5;250m    \u001b[39m\u001b[38;5;124;03m\"\"\"True if the set of points in this geometry is empty, else False\"\"\"\u001b[39;00m\n\u001b[1;32m--> 629\u001b[0m     \u001b[38;5;28;01mreturn\u001b[39;00m \u001b[38;5;28mbool\u001b[39m(\u001b[43mshapely\u001b[49m\u001b[38;5;241;43m.\u001b[39;49m\u001b[43mis_empty\u001b[49m\u001b[43m(\u001b[49m\u001b[38;5;28;43mself\u001b[39;49m\u001b[43m)\u001b[49m)\n",
      "File \u001b[1;32mc:\\Users\\b8008458\\AppData\\Local\\miniforge3\\envs\\growbikenet\\Lib\\site-packages\\shapely\\decorators.py:77\u001b[0m, in \u001b[0;36mmultithreading_enabled.<locals>.wrapped\u001b[1;34m(*args, **kwargs)\u001b[0m\n\u001b[0;32m     75\u001b[0m     \u001b[38;5;28;01mfor\u001b[39;00m arr \u001b[38;5;129;01min\u001b[39;00m array_args:\n\u001b[0;32m     76\u001b[0m         arr\u001b[38;5;241m.\u001b[39mflags\u001b[38;5;241m.\u001b[39mwriteable \u001b[38;5;241m=\u001b[39m \u001b[38;5;28;01mFalse\u001b[39;00m\n\u001b[1;32m---> 77\u001b[0m     \u001b[38;5;28;01mreturn\u001b[39;00m \u001b[43mfunc\u001b[49m\u001b[43m(\u001b[49m\u001b[38;5;241;43m*\u001b[39;49m\u001b[43margs\u001b[49m\u001b[43m,\u001b[49m\u001b[43m \u001b[49m\u001b[38;5;241;43m*\u001b[39;49m\u001b[38;5;241;43m*\u001b[39;49m\u001b[43mkwargs\u001b[49m\u001b[43m)\u001b[49m\n\u001b[0;32m     78\u001b[0m \u001b[38;5;28;01mfinally\u001b[39;00m:\n\u001b[0;32m     79\u001b[0m     \u001b[38;5;28;01mfor\u001b[39;00m arr, old_flag \u001b[38;5;129;01min\u001b[39;00m \u001b[38;5;28mzip\u001b[39m(array_args, old_flags):\n",
      "File \u001b[1;32mc:\\Users\\b8008458\\AppData\\Local\\miniforge3\\envs\\growbikenet\\Lib\\site-packages\\shapely\\predicates.py:162\u001b[0m, in \u001b[0;36mis_empty\u001b[1;34m(geometry, **kwargs)\u001b[0m\n\u001b[0;32m    137\u001b[0m \u001b[38;5;129m@multithreading_enabled\u001b[39m\n\u001b[0;32m    138\u001b[0m \u001b[38;5;28;01mdef\u001b[39;00m \u001b[38;5;21mis_empty\u001b[39m(geometry, \u001b[38;5;241m*\u001b[39m\u001b[38;5;241m*\u001b[39mkwargs):\n\u001b[0;32m    139\u001b[0m \u001b[38;5;250m    \u001b[39m\u001b[38;5;124;03m\"\"\"Returns True if a geometry is an empty point, polygon, etc.\u001b[39;00m\n\u001b[0;32m    140\u001b[0m \n\u001b[0;32m    141\u001b[0m \u001b[38;5;124;03m    Parameters\u001b[39;00m\n\u001b[1;32m   (...)\u001b[0m\n\u001b[0;32m    160\u001b[0m \u001b[38;5;124;03m    False\u001b[39;00m\n\u001b[0;32m    161\u001b[0m \u001b[38;5;124;03m    \"\"\"\u001b[39;00m\n\u001b[1;32m--> 162\u001b[0m     \u001b[38;5;28;01mreturn\u001b[39;00m \u001b[43mlib\u001b[49m\u001b[38;5;241;43m.\u001b[39;49m\u001b[43mis_empty\u001b[49m\u001b[43m(\u001b[49m\u001b[43mgeometry\u001b[49m\u001b[43m,\u001b[49m\u001b[43m \u001b[49m\u001b[38;5;241;43m*\u001b[39;49m\u001b[38;5;241;43m*\u001b[39;49m\u001b[43mkwargs\u001b[49m\u001b[43m)\u001b[49m\n",
      "\u001b[1;31mKeyboardInterrupt\u001b[0m: "
     ]
    },
    {
     "ename": "",
     "evalue": "",
     "output_type": "error",
     "traceback": [
      "\u001b[1;31mThe Kernel crashed while executing code in the current cell or a previous cell. \n",
      "\u001b[1;31mPlease review the code in the cell(s) to identify a possible cause of the failure. \n",
      "\u001b[1;31mClick <a href='https://aka.ms/vscodeJupyterKernelCrash'>here</a> for more info. \n",
      "\u001b[1;31mView Jupyter <a href='command:jupyter.viewOutput'>log</a> for further details."
     ]
    }
   ],
   "source": [
    "## convert json outputs to geopackage to load into QGIS easily\n",
    "# Ensure output directory exists\n",
    "PATH['exports_gpkg'] = '../../bikenwgrowth_external/exports_gpkg/'\n",
    "output_directory = os.path.abspath(PATH['exports_gpkg'])\n",
    "os.makedirs(output_directory, exist_ok=True)\n",
    "\n",
    "# Function to process each JSON file\n",
    "def process_json_file(input_file, placeid):\n",
    "    with open(input_file) as f:\n",
    "        data = json.load(f)\n",
    "\n",
    "    # Check if the data is a GeometryCollection\n",
    "    if data[\"type\"] == \"GeometryCollection\":\n",
    "        # Extract only LineString geometries and create LineString objects\n",
    "        lines = [\n",
    "            LineString(g[\"coordinates\"]) for g in data[\"geometries\"] if g[\"type\"] == \"LineString\"\n",
    "        ]\n",
    "\n",
    "        # Create a GeoDataFrame from the LineStrings\n",
    "        if lines:\n",
    "            gdf_lines = gpd.GeoDataFrame(geometry=lines, crs=\"EPSG:4326\")\n",
    "            # Ensure placeid-specific output directory exists\n",
    "            place_output_directory = os.path.join(output_directory, placeid)\n",
    "            os.makedirs(place_output_directory, exist_ok=True)\n",
    "            # Save the GeoDataFrame to a GeoPackage\n",
    "            output_file_gpkg = os.path.join(place_output_directory, os.path.basename(input_file).replace(\".json\", \".gpkg\"))\n",
    "            gdf_lines.to_file(output_file_gpkg, driver='GPKG', layer='lines')\n",
    "\n",
    "            if debug:\n",
    "                print(f\"Converted {os.path.basename(input_file)} to GeoPackage and saved to {place_output_directory}\")\n",
    "\n",
    "# Function to process all JSON files in a directory\n",
    "def process_all_json_files(base_directory):\n",
    "    for root, dirs, files in os.walk(base_directory):\n",
    "        for file in files:\n",
    "            if file.endswith('.json'):\n",
    "                input_file = os.path.join(root, file)\n",
    "                placeid = os.path.basename(root)  # Using the name of the folder as placeid\n",
    "                if debug == True:\n",
    "                    print(f\"Processing file: {input_file} for placeid: {placeid}\")\n",
    "                process_json_file(input_file, placeid)\n",
    "\n",
    "# Specify the base directory where your JSON files are stored\n",
    "base_directory = PATH[\"exports_json\"]  # Adjust this to your base directory\n",
    "\n",
    "print(\"Starting conversion of all JSON files to GeoPackages...\")\n",
    "process_all_json_files(base_directory)\n",
    "print(\"All conversions completed.\")"
   ]
  },
  {
   "cell_type": "markdown",
   "metadata": {},
   "source": [
    "## Igraph picklez of simplified carconstrictedbike networks"
   ]
  },
  {
   "cell_type": "code",
   "execution_count": 22,
   "metadata": {},
   "outputs": [
    {
     "data": {
      "application/vnd.jupyter.widget-view+json": {
       "model_id": "894d1f197a10408aa13258755a81fe2a",
       "version_major": 2,
       "version_minor": 0
      },
      "text/plain": [
       "Cities:   0%|          | 0/1 [00:00<?, ?it/s]"
      ]
     },
     "metadata": {},
     "output_type": "display_data"
    },
    {
     "name": "stdout",
     "output_type": "stream",
     "text": [
      "newcastle: Exporting carconstrictedbike to picklez\n"
     ]
    },
    {
     "ename": "TypeError",
     "evalue": "'<' not supported between instances of 'int' and 'list'",
     "output_type": "error",
     "traceback": [
      "\u001b[1;31m---------------------------------------------------------------------------\u001b[0m",
      "\u001b[1;31mTypeError\u001b[0m                                 Traceback (most recent call last)",
      "Cell \u001b[1;32mIn[22], line 7\u001b[0m\n\u001b[0;32m      5\u001b[0m G_carall \u001b[38;5;241m=\u001b[39m csv_to_ig(PATH[\u001b[38;5;124m\"\u001b[39m\u001b[38;5;124mdata\u001b[39m\u001b[38;5;124m\"\u001b[39m] \u001b[38;5;241m+\u001b[39m placeid \u001b[38;5;241m+\u001b[39m \u001b[38;5;124m\"\u001b[39m\u001b[38;5;124m/\u001b[39m\u001b[38;5;124m\"\u001b[39m, placeid, \u001b[38;5;124m'\u001b[39m\u001b[38;5;124mcarall\u001b[39m\u001b[38;5;124m'\u001b[39m)\n\u001b[0;32m      6\u001b[0m \u001b[38;5;28;01mwith\u001b[39;00m \u001b[38;5;28mopen\u001b[39m(PATH[\u001b[38;5;124m\"\u001b[39m\u001b[38;5;124mexports\u001b[39m\u001b[38;5;124m\"\u001b[39m] \u001b[38;5;241m+\u001b[39m placeid \u001b[38;5;241m+\u001b[39m \u001b[38;5;124m\"\u001b[39m\u001b[38;5;124m/\u001b[39m\u001b[38;5;124m\"\u001b[39m \u001b[38;5;241m+\u001b[39m placeid \u001b[38;5;241m+\u001b[39m \u001b[38;5;124m'\u001b[39m\u001b[38;5;124m_carall.picklez\u001b[39m\u001b[38;5;124m'\u001b[39m, \u001b[38;5;124m'\u001b[39m\u001b[38;5;124mwb\u001b[39m\u001b[38;5;124m'\u001b[39m) \u001b[38;5;28;01mas\u001b[39;00m f:\n\u001b[1;32m----> 7\u001b[0m     G_carall_simplified \u001b[38;5;241m=\u001b[39m \u001b[43msimplify_ig\u001b[49m\u001b[43m(\u001b[49m\u001b[43mG_carall\u001b[49m\u001b[43m)\u001b[49m\n\u001b[0;32m      8\u001b[0m     G_carall_simplified\u001b[38;5;241m.\u001b[39mwrite_picklez(fname \u001b[38;5;241m=\u001b[39m f)\n\u001b[0;32m      9\u001b[0m \u001b[38;5;28;01mif\u001b[39;00m debug: map_center \u001b[38;5;241m=\u001b[39m nxdraw(G_carall, \u001b[38;5;124m\"\u001b[39m\u001b[38;5;124mcarall\u001b[39m\u001b[38;5;124m\"\u001b[39m)\n",
      "File \u001b[1;32m~\\OneDrive - Newcastle University\\2022 to 2023\\PhD\\networkGrowth\\bikenwgrowth\\code\\functions.py:115\u001b[0m, in \u001b[0;36msimplify_ig\u001b[1;34m(G)\u001b[0m\n\u001b[0;32m    113\u001b[0m G_temp \u001b[38;5;241m=\u001b[39m copy\u001b[38;5;241m.\u001b[39mdeepcopy(G)\n\u001b[0;32m    114\u001b[0m G_temp\u001b[38;5;241m.\u001b[39mes[\u001b[38;5;124m\"\u001b[39m\u001b[38;5;124mlength\u001b[39m\u001b[38;5;124m\"\u001b[39m] \u001b[38;5;241m=\u001b[39m G_temp\u001b[38;5;241m.\u001b[39mes[\u001b[38;5;124m\"\u001b[39m\u001b[38;5;124mweight\u001b[39m\u001b[38;5;124m\"\u001b[39m]\n\u001b[1;32m--> 115\u001b[0m output \u001b[38;5;241m=\u001b[39m \u001b[43mig\u001b[49m\u001b[38;5;241;43m.\u001b[39;49m\u001b[43mGraph\u001b[49m\u001b[38;5;241;43m.\u001b[39;49m\u001b[43mfrom_networkx\u001b[49m\u001b[43m(\u001b[49m\u001b[43mox\u001b[49m\u001b[38;5;241;43m.\u001b[39;49m\u001b[43msimplify_graph\u001b[49m\u001b[43m(\u001b[49m\u001b[43mnx\u001b[49m\u001b[38;5;241;43m.\u001b[39;49m\u001b[43mMultiDiGraph\u001b[49m\u001b[43m(\u001b[49m\u001b[43mG_temp\u001b[49m\u001b[38;5;241;43m.\u001b[39;49m\u001b[43mto_networkx\u001b[49m\u001b[43m(\u001b[49m\u001b[43m)\u001b[49m\u001b[43m)\u001b[49m\u001b[43m)\u001b[49m\u001b[38;5;241;43m.\u001b[39;49m\u001b[43mto_undirected\u001b[49m\u001b[43m(\u001b[49m\u001b[43m)\u001b[49m\u001b[43m)\u001b[49m\n\u001b[0;32m    116\u001b[0m output\u001b[38;5;241m.\u001b[39mes[\u001b[38;5;124m\"\u001b[39m\u001b[38;5;124mweight\u001b[39m\u001b[38;5;124m\"\u001b[39m] \u001b[38;5;241m=\u001b[39m output\u001b[38;5;241m.\u001b[39mes[\u001b[38;5;124m\"\u001b[39m\u001b[38;5;124mlength\u001b[39m\u001b[38;5;124m\"\u001b[39m]\n\u001b[0;32m    117\u001b[0m \u001b[38;5;28;01mreturn\u001b[39;00m output\n",
      "File \u001b[1;32mc:\\Users\\b8008458\\AppData\\Local\\miniforge3\\envs\\growbikenet\\Lib\\site-packages\\igraph\\io\\libraries.py:152\u001b[0m, in \u001b[0;36m_construct_graph_from_networkx\u001b[1;34m(cls, g, vertex_attr_hashable)\u001b[0m\n\u001b[0;32m    149\u001b[0m \u001b[38;5;28;01mif\u001b[39;00m \u001b[38;5;124m\"\u001b[39m\u001b[38;5;124m_igraph_index\u001b[39m\u001b[38;5;124m\"\u001b[39m \u001b[38;5;129;01min\u001b[39;00m eattr:\n\u001b[0;32m    150\u001b[0m     \u001b[38;5;66;03m# Poor man's argsort\u001b[39;00m\n\u001b[0;32m    151\u001b[0m     sortd \u001b[38;5;241m=\u001b[39m \u001b[38;5;28mlist\u001b[39m(\u001b[38;5;28menumerate\u001b[39m(eattr[\u001b[38;5;124m\"\u001b[39m\u001b[38;5;124m_igraph_index\u001b[39m\u001b[38;5;124m\"\u001b[39m]))\n\u001b[1;32m--> 152\u001b[0m     \u001b[43msortd\u001b[49m\u001b[38;5;241;43m.\u001b[39;49m\u001b[43msort\u001b[49m\u001b[43m(\u001b[49m\u001b[43mkey\u001b[49m\u001b[38;5;241;43m=\u001b[39;49m\u001b[38;5;28;43;01mlambda\u001b[39;49;00m\u001b[43m \u001b[49m\u001b[43mx\u001b[49m\u001b[43m:\u001b[49m\u001b[43m \u001b[49m\u001b[43mx\u001b[49m\u001b[43m[\u001b[49m\u001b[38;5;241;43m1\u001b[39;49m\u001b[43m]\u001b[49m\u001b[43m)\u001b[49m\n\u001b[0;32m    153\u001b[0m     idx \u001b[38;5;241m=\u001b[39m [i \u001b[38;5;28;01mfor\u001b[39;00m i, x \u001b[38;5;129;01min\u001b[39;00m sortd]\n\u001b[0;32m    155\u001b[0m     \u001b[38;5;66;03m# Get rid of the _igraph_index now\u001b[39;00m\n",
      "\u001b[1;31mTypeError\u001b[0m: '<' not supported between instances of 'int' and 'list'"
     ]
    }
   ],
   "source": [
    "for placeid, placeinfo in tqdm(cities.items(), desc = \"Cities\"):\n",
    "    print(placeid + \": Exporting carconstrictedbike to picklez\")\n",
    "    \n",
    "    # Load existing\n",
    "    G_carall = csv_to_ig(PATH[\"data\"] + placeid + \"/\", placeid, 'carall')\n",
    "    with open(PATH[\"exports\"] + placeid + \"/\" + placeid + '_carall.picklez', 'wb') as f:\n",
    "        G_carall_simplified = simplify_ig(G_carall)\n",
    "        G_carall_simplified.write_picklez(fname = f)\n",
    "    if debug: map_center = nxdraw(G_carall, \"carall\")\n",
    "            \n",
    "    # Load results\n",
    "    filename = placeid + '_poi_' + poi_source + \"_\" + prune_measure\n",
    "    resultfile = open(PATH[\"results\"] + placeid + \"/\" + filename + \".pickle\",'rb')\n",
    "    res = pickle.load(resultfile)\n",
    "    resultfile.close()\n",
    "    \n",
    "    if debug:\n",
    "        fig = initplot()\n",
    "        nxdraw(G_carall_simplified, \"abstract\", map_center, nodesize = 0, weighted = True, maxwidthsquared = 500/100)\n",
    "        plt.savefig(PATH[\"exports\"] + placeid + \"/\" + placeid + '_carallweighted.png', bbox_inches=\"tight\", dpi=plotparam[\"dpi\"])\n",
    "        plt.close()\n",
    "    for GT, prune_quantile in zip(res[\"GTs\"], tqdm(res[\"prune_quantiles\"], desc = \"Growth stages\", leave = False)):\n",
    "        if prune_quantile in prune_quantiles: #[0.5,1]:\n",
    "            GT_carconstrictedbike = copy.deepcopy(G_carall)\n",
    "            constrict_overlaps(GT_carconstrictedbike, GT)\n",
    "            GT_carconstrictedbike = simplify_ig(GT_carconstrictedbike)\n",
    "            if debug:\n",
    "                fig = initplot()\n",
    "                nxdraw(GT_carconstrictedbike, \"abstract\", map_center, nodesize = 0, weighted = True, maxwidthsquared = 500)\n",
    "                plt.savefig(PATH[\"exports\"] + placeid + \"/\" + placeid + '_carconstrictedbike_poi_' + poi_source + \"_\" + prune_measures[prune_measure] + \"{:.3f}\".format(prune_quantile) + '.png', bbox_inches=\"tight\", dpi=plotparam[\"dpi\"])\n",
    "                plt.close()\n",
    "            with open(PATH[\"exports\"] + placeid + \"/\" + placeid + '_carconstrictedbike_poi_' + poi_source + \"_\" + prune_measures[prune_measure] + \"{:.3f}\".format(prune_quantile) + '.picklez', 'wb') as f:\n",
    "                GT_carconstrictedbike.write_picklez(fname = f)"
   ]
  },
  {
   "cell_type": "markdown",
   "metadata": {},
   "source": [
    "## Railwaystation POIs gdf to GeoJSON"
   ]
  },
  {
   "cell_type": "code",
   "execution_count": null,
   "metadata": {},
   "outputs": [],
   "source": [
    "for placeid, placeinfo in tqdm(cities.items(), desc = \"Cities\"):\n",
    "    try:\n",
    "        poi_source_here = \"railwaystation\"\n",
    "        poi_gdf = gpd.GeoDataFrame.from_file(PATH[\"data\"] + placeid + \"/\" + placeid + '_' + 'poi_' + poi_source_here + '.gpkg')\n",
    "    #         pp.pprint(poi_gdf.geometry.x)\n",
    "        with open(PATH[\"exports_json\"] + placeid + \"/\" + placeid + '_poi_' + poi_source_here + '.json', 'w') as f:\n",
    "            geojson.dump(gdf_to_geojson(poi_gdf, poi_gdf.keys()), f)\n",
    "    except:\n",
    "        print(placeid + \" did not work.\")"
   ]
  },
  {
   "cell_type": "markdown",
   "metadata": {},
   "source": [
    "## Grid and railwaystation POIs to lat/lon list"
   ]
  },
  {
   "cell_type": "markdown",
   "metadata": {},
   "source": [
    "Given [placeid]_poi_grid_nnidscarall, fetch and export x,y (lat,lon) from [placeid]_carall_nodes.csv to [placeid]_poi_grid_latlon.csv."
   ]
  },
  {
   "cell_type": "code",
   "execution_count": null,
   "metadata": {},
   "outputs": [],
   "source": [
    "for placeid, placeinfo in tqdm(cities.items(), desc = \"Cities\"):\n",
    "    if check_extract_zip(PATH[\"data\"] + placeid + \"/\", placeid + \"_carall\"):\n",
    "        for poi_source_here in [\"railwaystation\", \"grid\"]:\n",
    "            with open(PATH[\"data\"] + placeid + \"/\" + placeid + '_poi_' + poi_source_here + '_nnidscarall.csv', 'r') as fin, open(PATH[\"exports_json\"] + placeid + \"/\" + placeid + '_poi_' + poi_source_here + '_latlon.csv', 'w') as fout:\n",
    "            \n",
    "                fdata = np.genfromtxt(PATH[\"data\"] + placeid + \"/\" + placeid + '_carall_nodes.csv', delimiter=',', usecols=(0,1,2))\n",
    "                for line in fin:\n",
    "                    poiid = int(line.strip())\n",
    "                    fdata_lineid = np.argwhere(fdata[:, 2] == poiid)\n",
    "                    fout.write(str(fdata[fdata_lineid, 0].flatten()[0]) + \",\" + str(fdata[fdata_lineid, 1].flatten()[0]) + '\\n')\n",
    "\n",
    "        os.remove(PATH[\"data\"] + placeid + \"/\" + placeid + \"_carall_nodes.csv\")\n",
    "        os.remove(PATH[\"data\"] + placeid + \"/\" + placeid + \"_carall_edges.csv\")"
   ]
  },
  {
   "cell_type": "markdown",
   "metadata": {},
   "source": [
    "## GeoJSON Linter"
   ]
  },
  {
   "cell_type": "markdown",
   "metadata": {},
   "source": [
    "https://geojsonlint.com/"
   ]
  },
  {
   "cell_type": "markdown",
   "metadata": {},
   "source": [
    "## Copy selected videos, plots, and results"
   ]
  },
  {
   "cell_type": "code",
   "execution_count": null,
   "metadata": {},
   "outputs": [],
   "source": [
    "copyfiles = {\"plots\": \n",
    "                [\"_analysis_poi_grid_betweenness.png\",\n",
    "                 \"_analysis_poi_grid_closeness.png\",\n",
    "                 \"_analysis_poi_grid_random.png\",\n",
    "                 \"_analysis_poi_railwaystation_betweenness.png\",\n",
    "                 \"_analysis_poi_railwaystation_closeness.png\",\n",
    "                 \"_analysis_poi_railwaystation_random.png\"\n",
    "                ],\n",
    "             \"plots_networks\":\n",
    "                [\"_biketrack.pdf\",\n",
    "                 \"_bikeable.pdf\",\n",
    "                 \"_biketrackcarall.pdf\",\n",
    "                 \"_carall.pdf\",\n",
    "                 \"_carall_poi_grid.pdf\",\n",
    "                 \"_carall_poi_railwaystation.pdf\",\n",
    "                 \"_MSTabstract_poi_grid.pdf\",\n",
    "                 \"_MSTabstract_poi_railwaystation.pdf\",\n",
    "                 \"_MSTall_poi_grid.pdf\",\n",
    "                 \"_MSTall_poi_railwaystation.pdf\",\n",
    "                 \"_GTallcover_poi_grid_Bq1.000.png\",\n",
    "                 \"_GTallcover_poi_railwaystation_Bq1.000.png\"\n",
    "                ],\n",
    "            \"videos\":\n",
    "                [\"_GTabstract_poi_grid_Bq.mp4\",\n",
    "                 \"_GTabstract_poi_grid_Cq.mp4\",\n",
    "                 \"_GTabstract_poi_grid_Rq.mp4\",\n",
    "                 \"_GTabstract_poi_railwaystation_Bq.mp4\",\n",
    "                 \"_GTabstract_poi_railwaystation_Cq.mp4\",\n",
    "                 \"_GTabstract_poi_railwaystation_Rq.mp4\",\n",
    "                 \"_GTall_poi_grid_Bq.mp4\",\n",
    "                 \"_GTall_poi_grid_Cq.mp4\",\n",
    "                 \"_GTall_poi_grid_Rq.mp4\",\n",
    "                 \"_GTall_poi_railwaystation_Bq.mp4\",\n",
    "                 \"_GTall_poi_railwaystation_Cq.mp4\",\n",
    "                 \"_GTall_poi_railwaystation_Rq.mp4\",\n",
    "                 \"_GTallcover_poi_grid_Bq.mp4\",\n",
    "                 \"_GTallcover_poi_grid_Cq.mp4\",\n",
    "                 \"_GTallcover_poi_grid_Rq.mp4\",\n",
    "                 \"_GTallcover_poi_railwaystation_Bq.mp4\",\n",
    "                 \"_GTallcover_poi_railwaystation_Cq.mp4\",\n",
    "                 \"_GTallcover_poi_railwaystation_Rq.mp4\",\n",
    "                 \"_GTabstract_poi_grid_Bq.webm\",\n",
    "                 \"_GTabstract_poi_grid_Cq.webm\",\n",
    "                 \"_GTabstract_poi_grid_Rq.webm\",\n",
    "                 \"_GTabstract_poi_railwaystation_Bq.webm\",\n",
    "                 \"_GTabstract_poi_railwaystation_Cq.webm\",\n",
    "                 \"_GTabstract_poi_railwaystation_Rq.webm\",\n",
    "                 \"_GTall_poi_grid_Bq.webm\",\n",
    "                 \"_GTall_poi_grid_Cq.webm\",\n",
    "                 \"_GTall_poi_grid_Rq.webm\",\n",
    "                 \"_GTall_poi_railwaystation_Bq.webm\",\n",
    "                 \"_GTall_poi_railwaystation_Cq.webm\",\n",
    "                 \"_GTall_poi_railwaystation_Rq.webm\",\n",
    "                 \"_GTallcover_poi_grid_Bq.webm\",\n",
    "                 \"_GTallcover_poi_grid_Cq.webm\",\n",
    "                 \"_GTallcover_poi_grid_Rq.webm\",\n",
    "                 \"_GTallcover_poi_railwaystation_Bq.webm\",\n",
    "                 \"_GTallcover_poi_railwaystation_Cq.webm\",\n",
    "                 \"_GTallcover_poi_railwaystation_Rq.webm\"\n",
    "                  ],\n",
    "             \"results\":\n",
    "                [\"_existing.csv\",\n",
    "                 \"_poi_railwaystation_random.csv\",\n",
    "                 \"_poi_grid_random.csv\",\n",
    "                 \"_poi_railwaystation_closeness.csv\",\n",
    "                 \"_poi_grid_closeness.csv\",\n",
    "                 \"_poi_railwaystation_betweenness.csv\",\n",
    "                 \"_poi_grid_betweenness.csv\"\n",
    "                ]\n",
    "            }"
   ]
  },
  {
   "cell_type": "code",
   "execution_count": null,
   "metadata": {},
   "outputs": [],
   "source": [
    "exportpath = PATH[\"exports_json\"] #\"/Users/misz/Dropbox/supervision/2021ceciliamorten_bikeviz/data/\" \n",
    "for placeid, placeinfo in tqdm(cities.items(), desc = \"Cities\"):\n",
    "    for k, v in copyfiles.items():\n",
    "        for filename in v:\n",
    "            try:\n",
    "                shutil.copy2(PATH[k] + placeid + \"/\" + placeid + filename, exportpath + placeid + \"/\")\n",
    "            except:\n",
    "                print(\"File not found: \" + placeid + filename)"
   ]
  }
 ],
 "metadata": {
  "kernelspec": {
   "display_name": "Python 3",
   "language": "python",
   "name": "python3"
  },
  "language_info": {
   "codemirror_mode": {
    "name": "ipython",
    "version": 3
   },
   "file_extension": ".py",
   "mimetype": "text/x-python",
   "name": "python",
   "nbconvert_exporter": "python",
   "pygments_lexer": "ipython3",
   "version": "3.12.6"
  }
 },
 "nbformat": 4,
 "nbformat_minor": 4
}
